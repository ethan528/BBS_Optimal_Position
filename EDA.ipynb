{
 "cells": [
  {
   "cell_type": "code",
   "execution_count": 46,
   "metadata": {},
   "outputs": [
    {
     "data": {
      "text/html": [
       "<div>\n",
       "<style scoped>\n",
       "    .dataframe tbody tr th:only-of-type {\n",
       "        vertical-align: middle;\n",
       "    }\n",
       "\n",
       "    .dataframe tbody tr th {\n",
       "        vertical-align: top;\n",
       "    }\n",
       "\n",
       "    .dataframe thead th {\n",
       "        text-align: right;\n",
       "    }\n",
       "</style>\n",
       "<table border=\"1\" class=\"dataframe\">\n",
       "  <thead>\n",
       "    <tr style=\"text-align: right;\">\n",
       "      <th></th>\n",
       "      <th>업무일자</th>\n",
       "      <th>접수회사</th>\n",
       "      <th>상점</th>\n",
       "      <th>요청</th>\n",
       "      <th>도착지명</th>\n",
       "      <th>도착지주소</th>\n",
       "      <th>기사소속회사</th>\n",
       "      <th>배달요금</th>\n",
       "      <th>부가세</th>\n",
       "      <th>요금지원</th>\n",
       "      <th>콜수수료</th>\n",
       "      <th>상품금액</th>\n",
       "      <th>결제방법</th>\n",
       "      <th>접수</th>\n",
       "      <th>요청.1</th>\n",
       "      <th>배차</th>\n",
       "      <th>픽업</th>\n",
       "      <th>완료</th>\n",
       "      <th>취소</th>\n",
       "      <th>취소사유</th>\n",
       "    </tr>\n",
       "  </thead>\n",
       "  <tbody>\n",
       "    <tr>\n",
       "      <th>0</th>\n",
       "      <td>20210701</td>\n",
       "      <td>슈퍼히어로옥길범박</td>\n",
       "      <td>[범박]그래그래 피자&amp;떡볶이</td>\n",
       "      <td>10</td>\n",
       "      <td>부천시 범박동 150-2</td>\n",
       "      <td>부천시 범박동 150-2</td>\n",
       "      <td>슈퍼히어로옥길범박</td>\n",
       "      <td>3500</td>\n",
       "      <td>350</td>\n",
       "      <td>0</td>\n",
       "      <td>300</td>\n",
       "      <td>21900</td>\n",
       "      <td>선불</td>\n",
       "      <td>2021-07-01 23:46:53</td>\n",
       "      <td>2021-07-01 23:47:01</td>\n",
       "      <td>2021-07-01 23:47:02</td>\n",
       "      <td>2021-07-02 00:06:36</td>\n",
       "      <td>2021-07-02 00:14:43</td>\n",
       "      <td>NaT</td>\n",
       "      <td>NaN</td>\n",
       "    </tr>\n",
       "    <tr>\n",
       "      <th>1</th>\n",
       "      <td>20210701</td>\n",
       "      <td>슈퍼히어로옥길범박</td>\n",
       "      <td>[히어로]59쌀피자</td>\n",
       "      <td>10</td>\n",
       "      <td>센트리뷰</td>\n",
       "      <td>부천시 옥길동 771-1 부천옥길센트리뷰아파트 전기차충전소</td>\n",
       "      <td>슈퍼히어로옥길범박</td>\n",
       "      <td>3500</td>\n",
       "      <td>0</td>\n",
       "      <td>0</td>\n",
       "      <td>300</td>\n",
       "      <td>26000</td>\n",
       "      <td>카드</td>\n",
       "      <td>2021-07-01 23:43:41</td>\n",
       "      <td>2021-07-01 23:43:48</td>\n",
       "      <td>2021-07-01 23:48:30</td>\n",
       "      <td>2021-07-01 23:49:48</td>\n",
       "      <td>2021-07-01 23:54:25</td>\n",
       "      <td>NaT</td>\n",
       "      <td>NaN</td>\n",
       "    </tr>\n",
       "    <tr>\n",
       "      <th>2</th>\n",
       "      <td>20210701</td>\n",
       "      <td>슈퍼히어로옥길범박</td>\n",
       "      <td>[히어로]굽네치킨옥길점</td>\n",
       "      <td>10</td>\n",
       "      <td>옥길동 739-1</td>\n",
       "      <td>부천시 옥길동 739-1</td>\n",
       "      <td>슈퍼히어로옥길범박</td>\n",
       "      <td>3500</td>\n",
       "      <td>350</td>\n",
       "      <td>0</td>\n",
       "      <td>300</td>\n",
       "      <td>17000</td>\n",
       "      <td>선불</td>\n",
       "      <td>2021-07-01 23:28:20</td>\n",
       "      <td>2021-07-01 23:28:27</td>\n",
       "      <td>2021-07-01 23:28:30</td>\n",
       "      <td>2021-07-01 23:41:05</td>\n",
       "      <td>2021-07-01 23:41:08</td>\n",
       "      <td>NaT</td>\n",
       "      <td>NaN</td>\n",
       "    </tr>\n",
       "    <tr>\n",
       "      <th>3</th>\n",
       "      <td>20210701</td>\n",
       "      <td>슈퍼히어로옥길범박</td>\n",
       "      <td>[히어로]원할머니보쌈</td>\n",
       "      <td>10</td>\n",
       "      <td>부천시 소사본동 133-12</td>\n",
       "      <td>부천시 소사본동 133-12</td>\n",
       "      <td>부천 러쉬</td>\n",
       "      <td>4500</td>\n",
       "      <td>450</td>\n",
       "      <td>0</td>\n",
       "      <td>300</td>\n",
       "      <td>54000</td>\n",
       "      <td>선불</td>\n",
       "      <td>2021-07-01 23:22:55</td>\n",
       "      <td>2021-07-01 23:23:24</td>\n",
       "      <td>2021-07-01 23:23:25</td>\n",
       "      <td>2021-07-01 23:26:14</td>\n",
       "      <td>2021-07-01 23:37:00</td>\n",
       "      <td>NaT</td>\n",
       "      <td>NaN</td>\n",
       "    </tr>\n",
       "    <tr>\n",
       "      <th>4</th>\n",
       "      <td>20210701</td>\n",
       "      <td>슈퍼히어로옥길범박</td>\n",
       "      <td>[히어로]굽네치킨옥길점</td>\n",
       "      <td>10</td>\n",
       "      <td>옥길동 780-1</td>\n",
       "      <td>부천시 옥길동 780-1</td>\n",
       "      <td>슈퍼히어로옥길범박</td>\n",
       "      <td>3500</td>\n",
       "      <td>350</td>\n",
       "      <td>0</td>\n",
       "      <td>300</td>\n",
       "      <td>24400</td>\n",
       "      <td>선불</td>\n",
       "      <td>2021-07-01 23:16:10</td>\n",
       "      <td>2021-07-01 23:16:16</td>\n",
       "      <td>2021-07-01 23:16:22</td>\n",
       "      <td>2021-07-01 23:28:31</td>\n",
       "      <td>2021-07-01 23:30:19</td>\n",
       "      <td>NaT</td>\n",
       "      <td>NaN</td>\n",
       "    </tr>\n",
       "  </tbody>\n",
       "</table>\n",
       "</div>"
      ],
      "text/plain": [
       "       업무일자       접수회사               상점  요청             도착지명  \\\n",
       "0  20210701  슈퍼히어로옥길범박  [범박]그래그래 피자&떡볶이  10    부천시 범박동 150-2   \n",
       "1  20210701  슈퍼히어로옥길범박       [히어로]59쌀피자  10             센트리뷰   \n",
       "2  20210701  슈퍼히어로옥길범박     [히어로]굽네치킨옥길점  10        옥길동 739-1   \n",
       "3  20210701  슈퍼히어로옥길범박      [히어로]원할머니보쌈  10  부천시 소사본동 133-12   \n",
       "4  20210701  슈퍼히어로옥길범박     [히어로]굽네치킨옥길점  10        옥길동 780-1   \n",
       "\n",
       "                              도착지주소     기사소속회사  배달요금  부가세  요금지원  콜수수료   상품금액  \\\n",
       "0                     부천시 범박동 150-2  슈퍼히어로옥길범박  3500  350     0   300  21900   \n",
       "1  부천시 옥길동 771-1 부천옥길센트리뷰아파트 전기차충전소  슈퍼히어로옥길범박  3500    0     0   300  26000   \n",
       "2                     부천시 옥길동 739-1  슈퍼히어로옥길범박  3500  350     0   300  17000   \n",
       "3                   부천시 소사본동 133-12      부천 러쉬  4500  450     0   300  54000   \n",
       "4                     부천시 옥길동 780-1  슈퍼히어로옥길범박  3500  350     0   300  24400   \n",
       "\n",
       "  결제방법                  접수                요청.1                  배차  \\\n",
       "0   선불 2021-07-01 23:46:53 2021-07-01 23:47:01 2021-07-01 23:47:02   \n",
       "1   카드 2021-07-01 23:43:41 2021-07-01 23:43:48 2021-07-01 23:48:30   \n",
       "2   선불 2021-07-01 23:28:20 2021-07-01 23:28:27 2021-07-01 23:28:30   \n",
       "3   선불 2021-07-01 23:22:55 2021-07-01 23:23:24 2021-07-01 23:23:25   \n",
       "4   선불 2021-07-01 23:16:10 2021-07-01 23:16:16 2021-07-01 23:16:22   \n",
       "\n",
       "                   픽업                  완료  취소 취소사유  \n",
       "0 2021-07-02 00:06:36 2021-07-02 00:14:43 NaT  NaN  \n",
       "1 2021-07-01 23:49:48 2021-07-01 23:54:25 NaT  NaN  \n",
       "2 2021-07-01 23:41:05 2021-07-01 23:41:08 NaT  NaN  \n",
       "3 2021-07-01 23:26:14 2021-07-01 23:37:00 NaT  NaN  \n",
       "4 2021-07-01 23:28:31 2021-07-01 23:30:19 NaT  NaN  "
      ]
     },
     "execution_count": 46,
     "metadata": {},
     "output_type": "execute_result"
    }
   ],
   "source": [
    "import pandas as pd\n",
    "\n",
    "df = pd.read_excel(\n",
    "    './delivery/21년 7월_22년 6월 수도권제2본부-1.xlsx',\n",
    "    sheet_name = 4, usecols = [0, 6, 8, 9, 12, 13, 18, 22, 23, 25, 26, \n",
    "    27, 29, 34, 35, 36, 37, 38, 39, 43])\n",
    "df.head()"
   ]
  },
  {
   "cell_type": "code",
   "execution_count": 47,
   "metadata": {},
   "outputs": [
    {
     "name": "stdout",
     "output_type": "stream",
     "text": [
      "<class 'pandas.core.frame.DataFrame'>\n",
      "RangeIndex: 112249 entries, 0 to 112248\n",
      "Data columns (total 20 columns):\n",
      " #   Column  Non-Null Count   Dtype         \n",
      "---  ------  --------------   -----         \n",
      " 0   업무일자    112249 non-null  int64         \n",
      " 1   접수회사    112249 non-null  object        \n",
      " 2   상점      112249 non-null  object        \n",
      " 3   요청      112249 non-null  object        \n",
      " 4   도착지명    112237 non-null  object        \n",
      " 5   도착지주소   112239 non-null  object        \n",
      " 6   기사소속회사  110479 non-null  object        \n",
      " 7   배달요금    112249 non-null  int64         \n",
      " 8   부가세     112249 non-null  int64         \n",
      " 9   요금지원    112249 non-null  int64         \n",
      " 10  콜수수료    112249 non-null  int64         \n",
      " 11  상품금액    112249 non-null  int64         \n",
      " 12  결제방법    112249 non-null  object        \n",
      " 13  접수      111653 non-null  datetime64[ns]\n",
      " 14  요청.1    108689 non-null  datetime64[ns]\n",
      " 15  배차      110512 non-null  datetime64[ns]\n",
      " 16  픽업      110093 non-null  datetime64[ns]\n",
      " 17  완료      110118 non-null  datetime64[ns]\n",
      " 18  취소      2160 non-null    datetime64[ns]\n",
      " 19  취소사유    573 non-null     object        \n",
      "dtypes: datetime64[ns](6), int64(6), object(8)\n",
      "memory usage: 17.1+ MB\n"
     ]
    }
   ],
   "source": [
    "df.info()"
   ]
  },
  {
   "cell_type": "code",
   "execution_count": 48,
   "metadata": {},
   "outputs": [
    {
     "data": {
      "text/plain": [
       "업무일자           0\n",
       "접수회사           0\n",
       "상점             0\n",
       "요청             0\n",
       "도착지명          12\n",
       "도착지주소         10\n",
       "기사소속회사      1770\n",
       "배달요금           0\n",
       "부가세            0\n",
       "요금지원           0\n",
       "콜수수료           0\n",
       "상품금액           0\n",
       "결제방법           0\n",
       "접수           596\n",
       "요청.1        3560\n",
       "배차          1737\n",
       "픽업          2156\n",
       "완료          2131\n",
       "취소        110089\n",
       "취소사유      111676\n",
       "dtype: int64"
      ]
     },
     "execution_count": 48,
     "metadata": {},
     "output_type": "execute_result"
    }
   ],
   "source": [
    "df.isna().sum()"
   ]
  },
  {
   "cell_type": "code",
   "execution_count": 49,
   "metadata": {},
   "outputs": [
    {
     "data": {
      "text/plain": [
       "0"
      ]
     },
     "execution_count": 49,
     "metadata": {},
     "output_type": "execute_result"
    }
   ],
   "source": [
    "len(df[(df['도착지명'].isna()) & (df['취소'].isna()) & (df['완료'].isna())])"
   ]
  },
  {
   "cell_type": "code",
   "execution_count": 50,
   "metadata": {},
   "outputs": [
    {
     "data": {
      "text/plain": [
       "0"
      ]
     },
     "execution_count": 50,
     "metadata": {},
     "output_type": "execute_result"
    }
   ],
   "source": [
    "len(df[(df['도착지주소'] == '못찾음') & (df['취소'].isna())])"
   ]
  },
  {
   "cell_type": "code",
   "execution_count": 51,
   "metadata": {},
   "outputs": [
    {
     "data": {
      "text/html": [
       "<div>\n",
       "<style scoped>\n",
       "    .dataframe tbody tr th:only-of-type {\n",
       "        vertical-align: middle;\n",
       "    }\n",
       "\n",
       "    .dataframe tbody tr th {\n",
       "        vertical-align: top;\n",
       "    }\n",
       "\n",
       "    .dataframe thead th {\n",
       "        text-align: right;\n",
       "    }\n",
       "</style>\n",
       "<table border=\"1\" class=\"dataframe\">\n",
       "  <thead>\n",
       "    <tr style=\"text-align: right;\">\n",
       "      <th></th>\n",
       "      <th>업무일자</th>\n",
       "      <th>접수회사</th>\n",
       "      <th>상점</th>\n",
       "      <th>요청</th>\n",
       "      <th>도착지명</th>\n",
       "      <th>도착지주소</th>\n",
       "      <th>기사소속회사</th>\n",
       "      <th>배달요금</th>\n",
       "      <th>부가세</th>\n",
       "      <th>요금지원</th>\n",
       "      <th>콜수수료</th>\n",
       "      <th>상품금액</th>\n",
       "      <th>결제방법</th>\n",
       "      <th>접수</th>\n",
       "      <th>요청.1</th>\n",
       "      <th>배차</th>\n",
       "      <th>픽업</th>\n",
       "      <th>완료</th>\n",
       "      <th>취소</th>\n",
       "      <th>취소사유</th>\n",
       "    </tr>\n",
       "  </thead>\n",
       "  <tbody>\n",
       "    <tr>\n",
       "      <th>283</th>\n",
       "      <td>20210701</td>\n",
       "      <td>슈퍼히어로옥길범박</td>\n",
       "      <td>[히어로]최고당돈까스</td>\n",
       "      <td>10</td>\n",
       "      <td>센트리뷰</td>\n",
       "      <td>NaN</td>\n",
       "      <td>슈퍼히어로옥길범박</td>\n",
       "      <td>3000</td>\n",
       "      <td>300</td>\n",
       "      <td>0</td>\n",
       "      <td>300</td>\n",
       "      <td>20300</td>\n",
       "      <td>선불</td>\n",
       "      <td>2021-07-01 18:17:00</td>\n",
       "      <td>2021-07-01 18:17:06</td>\n",
       "      <td>2021-07-01 18:17:11</td>\n",
       "      <td>2021-07-01 18:28:26</td>\n",
       "      <td>2021-07-01 18:43:01</td>\n",
       "      <td>NaT</td>\n",
       "      <td>NaN</td>\n",
       "    </tr>\n",
       "    <tr>\n",
       "      <th>8169</th>\n",
       "      <td>20210713</td>\n",
       "      <td>슈퍼히어로옥길범박</td>\n",
       "      <td>[히어로]국제갈비</td>\n",
       "      <td>10</td>\n",
       "      <td>부천시 소사본돈 409-3 센트럴프라자</td>\n",
       "      <td>NaN</td>\n",
       "      <td>부천 러쉬</td>\n",
       "      <td>3000</td>\n",
       "      <td>300</td>\n",
       "      <td>0</td>\n",
       "      <td>300</td>\n",
       "      <td>31000</td>\n",
       "      <td>선불</td>\n",
       "      <td>2021-07-13 18:35:33</td>\n",
       "      <td>2021-07-13 18:35:44</td>\n",
       "      <td>2021-07-13 18:35:48</td>\n",
       "      <td>2021-07-13 18:45:03</td>\n",
       "      <td>2021-07-13 18:54:08</td>\n",
       "      <td>NaT</td>\n",
       "      <td>NaN</td>\n",
       "    </tr>\n",
       "    <tr>\n",
       "      <th>17371</th>\n",
       "      <td>20210725</td>\n",
       "      <td>슈퍼히어로옥길범박</td>\n",
       "      <td>[히어로]치킨사랑</td>\n",
       "      <td>10</td>\n",
       "      <td>부천시 괴안동 251-1 범박휴먼시아 108동</td>\n",
       "      <td>NaN</td>\n",
       "      <td>부천 러쉬</td>\n",
       "      <td>3500</td>\n",
       "      <td>350</td>\n",
       "      <td>0</td>\n",
       "      <td>300</td>\n",
       "      <td>31000</td>\n",
       "      <td>카드</td>\n",
       "      <td>2021-07-25 18:17:49</td>\n",
       "      <td>2021-07-25 18:18:08</td>\n",
       "      <td>2021-07-25 18:18:13</td>\n",
       "      <td>2021-07-25 18:25:44</td>\n",
       "      <td>2021-07-25 18:29:15</td>\n",
       "      <td>NaT</td>\n",
       "      <td>NaN</td>\n",
       "    </tr>\n",
       "    <tr>\n",
       "      <th>17472</th>\n",
       "      <td>20210725</td>\n",
       "      <td>슈퍼히어로옥길범박</td>\n",
       "      <td>[히어로]마산아구찜옥길</td>\n",
       "      <td>25</td>\n",
       "      <td>매화빌라 1동</td>\n",
       "      <td>NaN</td>\n",
       "      <td>슈퍼히어로옥길범박</td>\n",
       "      <td>3000</td>\n",
       "      <td>300</td>\n",
       "      <td>0</td>\n",
       "      <td>300</td>\n",
       "      <td>41000</td>\n",
       "      <td>카드</td>\n",
       "      <td>2021-07-25 17:30:43</td>\n",
       "      <td>2021-07-25 17:31:09</td>\n",
       "      <td>2021-07-25 17:31:10</td>\n",
       "      <td>2021-07-25 18:00:47</td>\n",
       "      <td>2021-07-25 18:07:38</td>\n",
       "      <td>NaT</td>\n",
       "      <td>NaN</td>\n",
       "    </tr>\n",
       "    <tr>\n",
       "      <th>28276</th>\n",
       "      <td>20210810</td>\n",
       "      <td>슈퍼히어로옥길범박</td>\n",
       "      <td>[히어로]원할머니보쌈</td>\n",
       "      <td>10</td>\n",
       "      <td>신흥로 39번길</td>\n",
       "      <td>NaN</td>\n",
       "      <td>슈퍼히어로옥길범박</td>\n",
       "      <td>8000</td>\n",
       "      <td>800</td>\n",
       "      <td>0</td>\n",
       "      <td>300</td>\n",
       "      <td>0</td>\n",
       "      <td>카→선</td>\n",
       "      <td>2021-08-10 21:21:20</td>\n",
       "      <td>2021-08-10 21:21:26</td>\n",
       "      <td>2021-08-10 21:22:45</td>\n",
       "      <td>2021-08-10 21:22:51</td>\n",
       "      <td>2021-08-10 21:44:35</td>\n",
       "      <td>NaT</td>\n",
       "      <td>NaN</td>\n",
       "    </tr>\n",
       "    <tr>\n",
       "      <th>35835</th>\n",
       "      <td>20210821</td>\n",
       "      <td>슈퍼히어로옥길범박</td>\n",
       "      <td>[히어로]맘스터치옥길점</td>\n",
       "      <td>10</td>\n",
       "      <td>옥길로 30번길</td>\n",
       "      <td>NaN</td>\n",
       "      <td>슈퍼히어로옥길범박</td>\n",
       "      <td>4000</td>\n",
       "      <td>400</td>\n",
       "      <td>0</td>\n",
       "      <td>300</td>\n",
       "      <td>27200</td>\n",
       "      <td>카드</td>\n",
       "      <td>2021-08-21 18:20:17</td>\n",
       "      <td>2021-08-21 18:21:41</td>\n",
       "      <td>2021-08-21 18:21:42</td>\n",
       "      <td>2021-08-21 18:27:53</td>\n",
       "      <td>2021-08-21 18:32:40</td>\n",
       "      <td>NaT</td>\n",
       "      <td>NaN</td>\n",
       "    </tr>\n",
       "    <tr>\n",
       "      <th>69412</th>\n",
       "      <td>20211020</td>\n",
       "      <td>슈퍼히어로옥길범박</td>\n",
       "      <td>[히어로]땡기요</td>\n",
       "      <td>10</td>\n",
       "      <td>범박동힐스데이트 3단지</td>\n",
       "      <td>NaN</td>\n",
       "      <td>슈퍼히어로옥길범박</td>\n",
       "      <td>3000</td>\n",
       "      <td>300</td>\n",
       "      <td>0</td>\n",
       "      <td>400</td>\n",
       "      <td>40000</td>\n",
       "      <td>카드</td>\n",
       "      <td>2021-10-20 20:38:39</td>\n",
       "      <td>2021-10-20 20:38:48</td>\n",
       "      <td>2021-10-20 20:38:56</td>\n",
       "      <td>2021-10-20 20:50:03</td>\n",
       "      <td>2021-10-20 20:59:24</td>\n",
       "      <td>NaT</td>\n",
       "      <td>NaN</td>\n",
       "    </tr>\n",
       "  </tbody>\n",
       "</table>\n",
       "</div>"
      ],
      "text/plain": [
       "           업무일자       접수회사            상점  요청                       도착지명 도착지주소  \\\n",
       "283    20210701  슈퍼히어로옥길범박   [히어로]최고당돈까스  10                       센트리뷰   NaN   \n",
       "8169   20210713  슈퍼히어로옥길범박     [히어로]국제갈비  10      부천시 소사본돈 409-3 센트럴프라자   NaN   \n",
       "17371  20210725  슈퍼히어로옥길범박     [히어로]치킨사랑  10  부천시 괴안동 251-1 범박휴먼시아 108동   NaN   \n",
       "17472  20210725  슈퍼히어로옥길범박  [히어로]마산아구찜옥길  25                    매화빌라 1동   NaN   \n",
       "28276  20210810  슈퍼히어로옥길범박   [히어로]원할머니보쌈  10                   신흥로 39번길   NaN   \n",
       "35835  20210821  슈퍼히어로옥길범박  [히어로]맘스터치옥길점  10                   옥길로 30번길   NaN   \n",
       "69412  20211020  슈퍼히어로옥길범박      [히어로]땡기요  10               범박동힐스데이트 3단지   NaN   \n",
       "\n",
       "          기사소속회사  배달요금  부가세  요금지원  콜수수료   상품금액 결제방법                  접수  \\\n",
       "283    슈퍼히어로옥길범박  3000  300     0   300  20300   선불 2021-07-01 18:17:00   \n",
       "8169       부천 러쉬  3000  300     0   300  31000   선불 2021-07-13 18:35:33   \n",
       "17371      부천 러쉬  3500  350     0   300  31000   카드 2021-07-25 18:17:49   \n",
       "17472  슈퍼히어로옥길범박  3000  300     0   300  41000   카드 2021-07-25 17:30:43   \n",
       "28276  슈퍼히어로옥길범박  8000  800     0   300      0  카→선 2021-08-10 21:21:20   \n",
       "35835  슈퍼히어로옥길범박  4000  400     0   300  27200   카드 2021-08-21 18:20:17   \n",
       "69412  슈퍼히어로옥길범박  3000  300     0   400  40000   카드 2021-10-20 20:38:39   \n",
       "\n",
       "                     요청.1                  배차                  픽업  \\\n",
       "283   2021-07-01 18:17:06 2021-07-01 18:17:11 2021-07-01 18:28:26   \n",
       "8169  2021-07-13 18:35:44 2021-07-13 18:35:48 2021-07-13 18:45:03   \n",
       "17371 2021-07-25 18:18:08 2021-07-25 18:18:13 2021-07-25 18:25:44   \n",
       "17472 2021-07-25 17:31:09 2021-07-25 17:31:10 2021-07-25 18:00:47   \n",
       "28276 2021-08-10 21:21:26 2021-08-10 21:22:45 2021-08-10 21:22:51   \n",
       "35835 2021-08-21 18:21:41 2021-08-21 18:21:42 2021-08-21 18:27:53   \n",
       "69412 2021-10-20 20:38:48 2021-10-20 20:38:56 2021-10-20 20:50:03   \n",
       "\n",
       "                       완료  취소 취소사유  \n",
       "283   2021-07-01 18:43:01 NaT  NaN  \n",
       "8169  2021-07-13 18:54:08 NaT  NaN  \n",
       "17371 2021-07-25 18:29:15 NaT  NaN  \n",
       "17472 2021-07-25 18:07:38 NaT  NaN  \n",
       "28276 2021-08-10 21:44:35 NaT  NaN  \n",
       "35835 2021-08-21 18:32:40 NaT  NaN  \n",
       "69412 2021-10-20 20:59:24 NaT  NaN  "
      ]
     },
     "execution_count": 51,
     "metadata": {},
     "output_type": "execute_result"
    }
   ],
   "source": [
    "df[(df['도착지주소'].isna()) & (df['취소'].isna())]"
   ]
  },
  {
   "cell_type": "code",
   "execution_count": 52,
   "metadata": {},
   "outputs": [
    {
     "data": {
      "text/plain": [
       "0"
      ]
     },
     "execution_count": 52,
     "metadata": {},
     "output_type": "execute_result"
    }
   ],
   "source": [
    "len(df[(df['기사소속회사'].isna()) & (df['취소'].isna())])"
   ]
  },
  {
   "cell_type": "code",
   "execution_count": 53,
   "metadata": {},
   "outputs": [
    {
     "data": {
      "text/plain": [
       "0"
      ]
     },
     "execution_count": 53,
     "metadata": {},
     "output_type": "execute_result"
    }
   ],
   "source": [
    "len(df[(df['접수'].isna()) & (df['취소'].isna()) & (df['완료'].isna())])"
   ]
  },
  {
   "cell_type": "code",
   "execution_count": 54,
   "metadata": {},
   "outputs": [
    {
     "data": {
      "text/plain": [
       "0"
      ]
     },
     "execution_count": 54,
     "metadata": {},
     "output_type": "execute_result"
    }
   ],
   "source": [
    "len(df[df['접수'] >= df['완료']])"
   ]
  },
  {
   "cell_type": "code",
   "execution_count": 55,
   "metadata": {},
   "outputs": [
    {
     "data": {
      "text/plain": [
       "0"
      ]
     },
     "execution_count": 55,
     "metadata": {},
     "output_type": "execute_result"
    }
   ],
   "source": [
    "len(df[df['요청.1'].isna() & (df['취소'].isna()) & (df['완료'].isna())])"
   ]
  },
  {
   "cell_type": "code",
   "execution_count": 57,
   "metadata": {},
   "outputs": [
    {
     "data": {
      "text/plain": [
       "0"
      ]
     },
     "execution_count": 57,
     "metadata": {},
     "output_type": "execute_result"
    }
   ],
   "source": [
    "len(df[(df['배차'].isna()) & (df['취소'].isna()) & (df['완료'].isna())])"
   ]
  },
  {
   "cell_type": "code",
   "execution_count": 58,
   "metadata": {},
   "outputs": [
    {
     "data": {
      "text/plain": [
       "0"
      ]
     },
     "execution_count": 58,
     "metadata": {},
     "output_type": "execute_result"
    }
   ],
   "source": [
    "len(df[(df['픽업'].isna()) & (df['취소'].isna()) & (df['완료'].isna())])"
   ]
  },
  {
   "cell_type": "code",
   "execution_count": 59,
   "metadata": {},
   "outputs": [
    {
     "data": {
      "text/plain": [
       "0"
      ]
     },
     "execution_count": 59,
     "metadata": {},
     "output_type": "execute_result"
    }
   ],
   "source": [
    "len(df[(df['완료'].isna()) & (df['취소'].isna())])"
   ]
  },
  {
   "cell_type": "code",
   "execution_count": 60,
   "metadata": {},
   "outputs": [
    {
     "data": {
      "text/plain": [
       "29"
      ]
     },
     "execution_count": 60,
     "metadata": {},
     "output_type": "execute_result"
    }
   ],
   "source": [
    "len(df[(df['완료'].notnull()) & (df['취소'].notnull())])"
   ]
  },
  {
   "cell_type": "code",
   "execution_count": 61,
   "metadata": {},
   "outputs": [
    {
     "data": {
      "text/plain": [
       "0"
      ]
     },
     "execution_count": 61,
     "metadata": {},
     "output_type": "execute_result"
    }
   ],
   "source": [
    "len(df[(df['취소'].isna()) & (df['취소사유'].notnull())])"
   ]
  },
  {
   "cell_type": "code",
   "execution_count": 62,
   "metadata": {},
   "outputs": [
    {
     "data": {
      "text/plain": [
       "1587"
      ]
     },
     "execution_count": 62,
     "metadata": {},
     "output_type": "execute_result"
    }
   ],
   "source": [
    "len(df[(df['취소'].notnull()) & (df['취소사유'].isna())])"
   ]
  },
  {
   "cell_type": "code",
   "execution_count": 63,
   "metadata": {},
   "outputs": [
    {
     "data": {
      "text/plain": [
       "573"
      ]
     },
     "execution_count": 63,
     "metadata": {},
     "output_type": "execute_result"
    }
   ],
   "source": [
    "len(df[(df['취소'].notnull()) & (df['취소사유'].notnull())])"
   ]
  },
  {
   "cell_type": "code",
   "execution_count": 64,
   "metadata": {},
   "outputs": [
    {
     "data": {
      "text/html": [
       "<div>\n",
       "<style scoped>\n",
       "    .dataframe tbody tr th:only-of-type {\n",
       "        vertical-align: middle;\n",
       "    }\n",
       "\n",
       "    .dataframe tbody tr th {\n",
       "        vertical-align: top;\n",
       "    }\n",
       "\n",
       "    .dataframe thead th {\n",
       "        text-align: right;\n",
       "    }\n",
       "</style>\n",
       "<table border=\"1\" class=\"dataframe\">\n",
       "  <thead>\n",
       "    <tr style=\"text-align: right;\">\n",
       "      <th></th>\n",
       "      <th>업무일자</th>\n",
       "      <th>배달요금</th>\n",
       "      <th>부가세</th>\n",
       "      <th>요금지원</th>\n",
       "      <th>콜수수료</th>\n",
       "      <th>상품금액</th>\n",
       "    </tr>\n",
       "  </thead>\n",
       "  <tbody>\n",
       "    <tr>\n",
       "      <th>count</th>\n",
       "      <td>1.122490e+05</td>\n",
       "      <td>112249.000000</td>\n",
       "      <td>112249.000000</td>\n",
       "      <td>112249.000000</td>\n",
       "      <td>112249.000000</td>\n",
       "      <td>112249.000000</td>\n",
       "    </tr>\n",
       "    <tr>\n",
       "      <th>mean</th>\n",
       "      <td>2.021095e+07</td>\n",
       "      <td>4155.466864</td>\n",
       "      <td>375.150781</td>\n",
       "      <td>0.328733</td>\n",
       "      <td>340.665841</td>\n",
       "      <td>25148.645609</td>\n",
       "    </tr>\n",
       "    <tr>\n",
       "      <th>std</th>\n",
       "      <td>1.746544e+02</td>\n",
       "      <td>800.339510</td>\n",
       "      <td>147.748783</td>\n",
       "      <td>22.887138</td>\n",
       "      <td>69.702029</td>\n",
       "      <td>15287.008760</td>\n",
       "    </tr>\n",
       "    <tr>\n",
       "      <th>min</th>\n",
       "      <td>2.021070e+07</td>\n",
       "      <td>0.000000</td>\n",
       "      <td>0.000000</td>\n",
       "      <td>0.000000</td>\n",
       "      <td>0.000000</td>\n",
       "      <td>0.000000</td>\n",
       "    </tr>\n",
       "    <tr>\n",
       "      <th>25%</th>\n",
       "      <td>2.021081e+07</td>\n",
       "      <td>3500.000000</td>\n",
       "      <td>350.000000</td>\n",
       "      <td>0.000000</td>\n",
       "      <td>300.000000</td>\n",
       "      <td>16500.000000</td>\n",
       "    </tr>\n",
       "    <tr>\n",
       "      <th>50%</th>\n",
       "      <td>2.021092e+07</td>\n",
       "      <td>4000.000000</td>\n",
       "      <td>400.000000</td>\n",
       "      <td>0.000000</td>\n",
       "      <td>300.000000</td>\n",
       "      <td>21900.000000</td>\n",
       "    </tr>\n",
       "    <tr>\n",
       "      <th>75%</th>\n",
       "      <td>2.021111e+07</td>\n",
       "      <td>4500.000000</td>\n",
       "      <td>450.000000</td>\n",
       "      <td>0.000000</td>\n",
       "      <td>400.000000</td>\n",
       "      <td>30000.000000</td>\n",
       "    </tr>\n",
       "    <tr>\n",
       "      <th>max</th>\n",
       "      <td>2.021123e+07</td>\n",
       "      <td>40000.000000</td>\n",
       "      <td>4000.000000</td>\n",
       "      <td>4500.000000</td>\n",
       "      <td>500.000000</td>\n",
       "      <td>868000.000000</td>\n",
       "    </tr>\n",
       "  </tbody>\n",
       "</table>\n",
       "</div>"
      ],
      "text/plain": [
       "               업무일자           배달요금            부가세           요금지원  \\\n",
       "count  1.122490e+05  112249.000000  112249.000000  112249.000000   \n",
       "mean   2.021095e+07    4155.466864     375.150781       0.328733   \n",
       "std    1.746544e+02     800.339510     147.748783      22.887138   \n",
       "min    2.021070e+07       0.000000       0.000000       0.000000   \n",
       "25%    2.021081e+07    3500.000000     350.000000       0.000000   \n",
       "50%    2.021092e+07    4000.000000     400.000000       0.000000   \n",
       "75%    2.021111e+07    4500.000000     450.000000       0.000000   \n",
       "max    2.021123e+07   40000.000000    4000.000000    4500.000000   \n",
       "\n",
       "                콜수수료           상품금액  \n",
       "count  112249.000000  112249.000000  \n",
       "mean      340.665841   25148.645609  \n",
       "std        69.702029   15287.008760  \n",
       "min         0.000000       0.000000  \n",
       "25%       300.000000   16500.000000  \n",
       "50%       300.000000   21900.000000  \n",
       "75%       400.000000   30000.000000  \n",
       "max       500.000000  868000.000000  "
      ]
     },
     "execution_count": 64,
     "metadata": {},
     "output_type": "execute_result"
    }
   ],
   "source": [
    "df.describe()"
   ]
  },
  {
   "cell_type": "code",
   "execution_count": 65,
   "metadata": {},
   "outputs": [
    {
     "data": {
      "text/html": [
       "<div>\n",
       "<style scoped>\n",
       "    .dataframe tbody tr th:only-of-type {\n",
       "        vertical-align: middle;\n",
       "    }\n",
       "\n",
       "    .dataframe tbody tr th {\n",
       "        vertical-align: top;\n",
       "    }\n",
       "\n",
       "    .dataframe thead th {\n",
       "        text-align: right;\n",
       "    }\n",
       "</style>\n",
       "<table border=\"1\" class=\"dataframe\">\n",
       "  <thead>\n",
       "    <tr style=\"text-align: right;\">\n",
       "      <th></th>\n",
       "      <th>업무일자</th>\n",
       "      <th>배달요금</th>\n",
       "      <th>부가세</th>\n",
       "      <th>요금지원</th>\n",
       "      <th>콜수수료</th>\n",
       "      <th>상품금액</th>\n",
       "    </tr>\n",
       "  </thead>\n",
       "  <tbody>\n",
       "    <tr>\n",
       "      <th>업무일자</th>\n",
       "      <td>1.000000</td>\n",
       "      <td>0.262892</td>\n",
       "      <td>0.107944</td>\n",
       "      <td>0.008069</td>\n",
       "      <td>0.554959</td>\n",
       "      <td>0.032402</td>\n",
       "    </tr>\n",
       "    <tr>\n",
       "      <th>배달요금</th>\n",
       "      <td>0.262892</td>\n",
       "      <td>1.000000</td>\n",
       "      <td>0.564487</td>\n",
       "      <td>-0.006243</td>\n",
       "      <td>0.157163</td>\n",
       "      <td>0.222981</td>\n",
       "    </tr>\n",
       "    <tr>\n",
       "      <th>부가세</th>\n",
       "      <td>0.107944</td>\n",
       "      <td>0.564487</td>\n",
       "      <td>1.000000</td>\n",
       "      <td>-0.005053</td>\n",
       "      <td>0.065043</td>\n",
       "      <td>0.139721</td>\n",
       "    </tr>\n",
       "    <tr>\n",
       "      <th>요금지원</th>\n",
       "      <td>0.008069</td>\n",
       "      <td>-0.006243</td>\n",
       "      <td>-0.005053</td>\n",
       "      <td>1.000000</td>\n",
       "      <td>-0.007598</td>\n",
       "      <td>0.000289</td>\n",
       "    </tr>\n",
       "    <tr>\n",
       "      <th>콜수수료</th>\n",
       "      <td>0.554959</td>\n",
       "      <td>0.157163</td>\n",
       "      <td>0.065043</td>\n",
       "      <td>-0.007598</td>\n",
       "      <td>1.000000</td>\n",
       "      <td>-0.002459</td>\n",
       "    </tr>\n",
       "    <tr>\n",
       "      <th>상품금액</th>\n",
       "      <td>0.032402</td>\n",
       "      <td>0.222981</td>\n",
       "      <td>0.139721</td>\n",
       "      <td>0.000289</td>\n",
       "      <td>-0.002459</td>\n",
       "      <td>1.000000</td>\n",
       "    </tr>\n",
       "  </tbody>\n",
       "</table>\n",
       "</div>"
      ],
      "text/plain": [
       "          업무일자      배달요금       부가세      요금지원      콜수수료      상품금액\n",
       "업무일자  1.000000  0.262892  0.107944  0.008069  0.554959  0.032402\n",
       "배달요금  0.262892  1.000000  0.564487 -0.006243  0.157163  0.222981\n",
       "부가세   0.107944  0.564487  1.000000 -0.005053  0.065043  0.139721\n",
       "요금지원  0.008069 -0.006243 -0.005053  1.000000 -0.007598  0.000289\n",
       "콜수수료  0.554959  0.157163  0.065043 -0.007598  1.000000 -0.002459\n",
       "상품금액  0.032402  0.222981  0.139721  0.000289 -0.002459  1.000000"
      ]
     },
     "execution_count": 65,
     "metadata": {},
     "output_type": "execute_result"
    }
   ],
   "source": [
    "df.corr()"
   ]
  },
  {
   "cell_type": "code",
   "execution_count": 66,
   "metadata": {},
   "outputs": [
    {
     "name": "stdout",
     "output_type": "stream",
     "text": [
      "최대배달시간 (326, 55)\n",
      "최소배달시간 (0, 8)\n",
      "평균배달시간 (25, 2)\n"
     ]
    }
   ],
   "source": [
    "from datetime import datetime\n",
    "import math\n",
    "\n",
    "def trans_second(list1, list2):\n",
    "    second = []\n",
    "\n",
    "    for li1, li2 in zip(list1, list2):\n",
    "        if li1 is not None and li2 is not None:\n",
    "            tmp = li1 - li2\n",
    "            second.append(tmp.seconds)\n",
    "    \n",
    "    return [x for x in second if math.isnan(x) == False]\n",
    "\n",
    "def trans_time(second):\n",
    "    m = second // 60\n",
    "    s = second % 60\n",
    "    time = int(m), int(s)\n",
    "\n",
    "    return time\n",
    "\n",
    "second = trans_second(df['완료'], df['접수'])\n",
    "print('최대배달시간', trans_time(max(second)))\n",
    "print('최소배달시간', trans_time(min(second)))\n",
    "print('평균배달시간', trans_time(sum(second)/len(second)))"
   ]
  }
 ],
 "metadata": {
  "kernelspec": {
   "display_name": "Python 3.9.12 ('base')",
   "language": "python",
   "name": "python3"
  },
  "language_info": {
   "codemirror_mode": {
    "name": "ipython",
    "version": 3
   },
   "file_extension": ".py",
   "mimetype": "text/x-python",
   "name": "python",
   "nbconvert_exporter": "python",
   "pygments_lexer": "ipython3",
   "version": "3.9.12"
  },
  "orig_nbformat": 4,
  "vscode": {
   "interpreter": {
    "hash": "ad2bdc8ecc057115af97d19610ffacc2b4e99fae6737bb82f5d7fb13d2f2c186"
   }
  }
 },
 "nbformat": 4,
 "nbformat_minor": 2
}
